{
 "cells": [
  {
   "cell_type": "code",
   "execution_count": 3,
   "metadata": {
    "scrolled": true
   },
   "outputs": [
    {
     "name": "stdout",
     "output_type": "stream",
     "text": [
      "Enter the survey question or attribute you want to perform analysis on (case sensitive): Have you EVER been near someone that you know or suspect had COVID-19 (such as co-workers, family members, or others)? Please select all that apply.\n",
      "25.0% of the responses for \"Have you EVER been near someone that you know or suspect had COVID-19 (such as co-workers, family members, or others)? Please select all that apply.\" were \"a_response\".\n",
      "25.0% of the responses for \"Have you EVER been near someone that you know or suspect had COVID-19 (such as co-workers, family members, or others)? Please select all that apply.\" were empty.\n",
      "50.0% of the responses for \"Have you EVER been near someone that you know or suspect had COVID-19 (such as co-workers, family members, or others)? Please select all that apply.\" were \"response b\".\n"
     ]
    }
   ],
   "source": [
    "#Noah Beamon, neb8jn@virginia.edu\n",
    "import csv\n",
    "\n",
    "#user input for the a question tabulated in the csv file\n",
    "question_analytics_request = input(\"Enter the survey question or attribute you want to perform analysis on (case sensitive): \").strip()\n",
    "\n",
    "#open the csv file, this file must be located in the same directory as this file\n",
    "with open('SyntheticData.csv') as file:\n",
    "    csvFile = csv.reader(file)\n",
    "    \n",
    "    #the first line of the csv containign the attribute information, id, and questions\n",
    "    fields = next(csvFile)\n",
    "    #get the column\n",
    "    question_column_location = fields.index(question_analytics_request)\n",
    "    \n",
    "    #dictionary for storing the frequency of each response\n",
    "    totals = {}\n",
    "    \n",
    "    #add each response to the dictionary incrementing the frequency by 1 if the response is already in the dictionary\n",
    "    for line in csvFile:\n",
    "        if(line[question_column_location] in totals.keys()):\n",
    "            totals[line[question_column_location]] += 1\n",
    "        else:\n",
    "            totals[line[question_column_location]] = 1\n",
    "    \n",
    "    #this function takes a dictionary as a paremeter and prints the percent of users who answered with each response\n",
    "    def analyze_group(theDict):\n",
    "        sum = 0\n",
    "        for i in theDict:\n",
    "            sum = sum + theDict[i]\n",
    "        \n",
    "        for j in theDict:\n",
    "            if (j == \"\"):\n",
    "                print(str((theDict[j]/sum)*100) + \"% of the responses for \" + '\"' + question_analytics_request + '\"' + \" were empty.\")\n",
    "            else:\n",
    "                print(str((theDict[j]/sum)*100) + \"% of the responses for \" + '\"' + question_analytics_request + '\"' + \" were \" + '\"' + j + '\"' + \".\")\n",
    "    \n",
    "    #additional function can be written to perform analysis on only one response for the question of interest\n",
    "    \n",
    "    #analyze the frequency of each repsonse as a percent\n",
    "    analyze_group(totals)"
   ]
  },
  {
   "cell_type": "code",
   "execution_count": 6,
   "metadata": {},
   "outputs": [
    {
     "name": "stdout",
     "output_type": "stream",
     "text": [
      "Enter the attribute to stratify across: gender\n",
      "Enter the demographic group: gender b\n",
      "Enter the question: You can choose not to answer any question at any time. This survey will take approximately 15 to 20 minutes to complete.\n",
      "Enter the response: \n",
      "50.0% of \"gender b\" responded to \"You can choose not to answer any question at any time. This survey will take approximately 15 to 20 minutes to complete.\" with \"\".\n"
     ]
    }
   ],
   "source": [
    "import csv\n",
    "\n",
    "#the attribute of interest\n",
    "attribute = input(\"Enter the attribute to stratify across: \").strip()\n",
    "#the demographic if interest\n",
    "demographic = input(\"Enter the demographic group: \").strip()\n",
    "#the question of interest\n",
    "question = input(\"Enter the question: \").strip()\n",
    "#the response of interest; user should enter an empty string for blank responses\n",
    "response = input(\"Enter the response: \").strip()\n",
    "\n",
    "\n",
    "#open the csv file\n",
    "with open('SyntheticData.csv') as file:\n",
    "    csvFile = csv.reader(file)\n",
    "    \n",
    "    fields = next(csvFile)\n",
    "    #get the attribute column location\n",
    "    attribute_location = fields.index(attribute)\n",
    "    #get the question column location\n",
    "    question_location = fields.index(question)\n",
    "    \n",
    "    #responses from the demographic that match the query\n",
    "    matchCount = 0\n",
    "    #total responses from the demographic\n",
    "    count = 0\n",
    "    \n",
    "    #increment the matchCount and count based on response\n",
    "    for line in csvFile:\n",
    "        if(line[attribute_location] == demographic):\n",
    "            count+=1\n",
    "            if(line[question_location] == response):\n",
    "                matchCount+=1\n",
    "    \n",
    "#     for line in csvFile:\n",
    "#         if(line[attribute_location] == demographic):\n",
    "#             count+=1\n",
    "#             if(line[question_location] == response):\n",
    "#                 if (response in totals.keys()):\n",
    "#                     totals[line[question_location]] += 1\n",
    "#                 else:\n",
    "#                     totals[line[question_location]] = 1  \n",
    "\n",
    "    #get the percentage of individiduals who belong to the demographic of interest and answered with the response of interest\n",
    "    result = (matchCount/count)*100\n",
    "    #print the results of the query\n",
    "    print(str(result) + \"% \" + \"of \" + '\"' + demographic + '\"' + \" responded to \" + '\"' +  question + '\"' + \" with \" + '\"' + response + '\"' + \".\")"
   ]
  },
  {
   "cell_type": "code",
   "execution_count": null,
   "metadata": {},
   "outputs": [],
   "source": []
  },
  {
   "cell_type": "code",
   "execution_count": null,
   "metadata": {},
   "outputs": [],
   "source": []
  }
 ],
 "metadata": {
  "kernelspec": {
   "display_name": "Python 3",
   "language": "python",
   "name": "python3"
  },
  "language_info": {
   "codemirror_mode": {
    "name": "ipython",
    "version": 3
   },
   "file_extension": ".py",
   "mimetype": "text/x-python",
   "name": "python",
   "nbconvert_exporter": "python",
   "pygments_lexer": "ipython3",
   "version": "3.8.5"
  }
 },
 "nbformat": 4,
 "nbformat_minor": 4
}
